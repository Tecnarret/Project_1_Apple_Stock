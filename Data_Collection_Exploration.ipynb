{
 "cells": [
  {
   "cell_type": "markdown",
   "id": "365d269a",
   "metadata": {},
   "source": [
    "First file. This file will be to connect to the kaggle api for the apple stock data. Then to do some exploration of the data, creating analysis graphs and what not.\n",
    "\n"
   ]
  },
  {
   "cell_type": "code",
   "execution_count": 12,
   "id": "dd6f8ce1",
   "metadata": {},
   "outputs": [],
   "source": [
    "# connect to kaggle api for the import kaggle\n",
    "import os\n",
    "\n",
    "os.environ['KAGGLE_USERNAME'] = 'terrancethornton'\n",
    "os.environ['KAGGLE_KEY'] = 'e8db86777a730448a4ea7ad3fbc1abd6'\n",
    "\n",
    "from kaggle import api \n",
    "\n"
   ]
  },
  {
   "cell_type": "code",
   "execution_count": 20,
   "id": "df26854c",
   "metadata": {},
   "outputs": [
    {
     "data": {
      "text/plain": [
       "pandas.core.frame.DataFrame"
      ]
     },
     "execution_count": 20,
     "metadata": {},
     "output_type": "execute_result"
    }
   ],
   "source": [
    "# I have downloaded the Apple stock data from Kaggle and saved it in the project directory. and now reading in the csv into a datafraom\n",
    "import pandas as pd\n",
    "stock_history = pd.read_csv(\"/Users/quantum/Project_1_Apple/Project_1_Apple_Stock/apple_stock_data.csv\")\n",
    "#stock_history.head(2)       \n",
    "type(stock_history)                     "
   ]
  }
 ],
 "metadata": {
  "kernelspec": {
   "display_name": "Python 3",
   "language": "python",
   "name": "python3"
  },
  "language_info": {
   "codemirror_mode": {
    "name": "ipython",
    "version": 3
   },
   "file_extension": ".py",
   "mimetype": "text/x-python",
   "name": "python",
   "nbconvert_exporter": "python",
   "pygments_lexer": "ipython3",
   "version": "3.9.6"
  }
 },
 "nbformat": 4,
 "nbformat_minor": 5
}
